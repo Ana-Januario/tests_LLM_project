{
 "cells": [
  {
   "cell_type": "code",
   "execution_count": 1,
   "id": "4bb9381a-de72-489f-b8ed-bbc219935415",
   "metadata": {},
   "outputs": [],
   "source": [
    "from langchain.document_loaders import PyPDFLoader\n",
    "\n",
    "document_loader = PyPDFLoader(\"C:/coloque aqui o seu caminho/multicreterioAHP-TOPSIS_v2.pdf\")\n",
    "documents = document_loader.load()\n",
    "# Dividir os documentos em trechos menores"
   ]
  },
  {
   "cell_type": "code",
   "execution_count": 2,
   "id": "c60fd0cc",
   "metadata": {},
   "outputs": [],
   "source": [
    "from langchain.text_splitter import RecursiveCharacterTextSplitter\n",
    "\n",
    "text_splitter = RecursiveCharacterTextSplitter(\n",
    "    chunk_size=1000,\n",
    "    chunk_overlap=200,\n",
    "    length_function=len,\n",
    "    separators=[\"\\n\\n\", \"\\n\", \" \", \"\"]\n",
    ")"
   ]
  },
  {
   "cell_type": "code",
   "execution_count": 3,
   "id": "3c8458ba",
   "metadata": {},
   "outputs": [],
   "source": [
    "chunks = text_splitter.split_documents(documents)"
   ]
  },
  {
   "cell_type": "code",
   "execution_count": 4,
   "id": "dea68d94",
   "metadata": {},
   "outputs": [],
   "source": [
    "# Criar uma Vector Store com embeddings da OpenAI\n",
    "from langchain_openai import OpenAIEmbeddings\n",
    "\n",
    "import os\n",
    "\n",
    "os.environ[\"OPENAI_API_KEY\"] = \"coloque aqui a sua chave api\""
   ]
  },
  {
   "cell_type": "code",
   "execution_count": null,
   "id": "655d482e",
   "metadata": {},
   "outputs": [],
   "source": [
    "\n",
    "from langchain.embeddings.openai import OpenAIEmbeddings\n",
    "embedding = OpenAIEmbeddings()"
   ]
  },
  {
   "cell_type": "code",
   "execution_count": 6,
   "id": "5331730a",
   "metadata": {},
   "outputs": [],
   "source": [
    "from langchain.vectorstores import Chroma\n",
    "\n",
    "persist_directory = 'docs/chroma/'\n",
    "vectordb = Chroma.from_documents(\n",
    "    documents=chunks,\n",
    "    embedding=embedding,\n",
    "    persist_directory=persist_directory\n",
    ")\n"
   ]
  },
  {
   "cell_type": "code",
   "execution_count": 7,
   "id": "3b75fef9",
   "metadata": {},
   "outputs": [
    {
     "name": "stdout",
     "output_type": "stream",
     "text": [
      "56\n"
     ]
    }
   ],
   "source": [
    "print(vectordb._collection.count())"
   ]
  },
  {
   "cell_type": "code",
   "execution_count": null,
   "id": "7c933984",
   "metadata": {},
   "outputs": [],
   "source": [
    "#conectar com o LLM\n",
    "\n",
    "from langchain.chat_models import ChatOpenAI\n",
    "llm = ChatOpenAI(model_name=\"gpt-3.5-turbo\", temperature= 0.0, openai_api_key=\"coloque aqui sua chave api\")\n"
   ]
  },
  {
   "cell_type": "code",
   "execution_count": 13,
   "id": "608ceac0",
   "metadata": {},
   "outputs": [],
   "source": [
    "retriever = vectordb.as_retriever(search_kwargs={\"k\": 8})"
   ]
  },
  {
   "cell_type": "code",
   "execution_count": 46,
   "id": "94fb0d85",
   "metadata": {},
   "outputs": [],
   "source": [
    "#construimos o template em ingles porque o doc pdf está em ingles\n",
    "prompt_template = \"\"\"\n",
    "You are a doctoral student on the decision sciences management course at the University of Coimbra and are studying multi-criteria methods for decision-making.\n",
    "\n",
    "Context: You have access to a work that discusses the Analytic Hierarchy Process and Technique for Order Preference by Similarity to Ideal Solution methods.\n",
    "Use the information from the document and your training data to provide comprehensive answers within the scope of the study.\n",
    "\n",
    "User question: {question}\n",
    "\n",
    "Relevant information from documents:\n",
    "{context}\n",
    "\n",
    "Instructions:\n",
    "1. Provide a detailed and complete answer to the user's question.\n",
    "2. Use all relevant information from the provided context and your knowledge.\n",
    "3. Ensure your response is well-structured and easy to understand.\n",
    "4. If the information is insufficient, clearly state what's missing and provide the best possible answer with available data.\n",
    "5. Include examples or explanations of key concepts when appropriate.\n",
    "\n",
    "Answer:\n",
    "\"\"\"\n"
   ]
  },
  {
   "cell_type": "code",
   "execution_count": 14,
   "id": "326c0870",
   "metadata": {},
   "outputs": [
    {
     "name": "stderr",
     "output_type": "stream",
     "text": [
      "C:\\Users\\ana.fjanuario\\AppData\\Roaming\\Python\\Python311\\site-packages\\langchain_core\\_api\\deprecation.py:139: LangChainDeprecationWarning: The class `OpenAI` was deprecated in LangChain 0.0.10 and will be removed in 0.3.0. An updated version of the class exists in the langchain-openai package and should be used instead. To use it run `pip install -U langchain-openai` and import as `from langchain_openai import OpenAI`.\n",
      "  warn_deprecated(\n"
     ]
    }
   ],
   "source": [
    "from langchain.chains import RetrievalQA\n",
    "from langchain.llms import OpenAI\n",
    "\n",
    "qa_chain = RetrievalQA.from_chain_type(\n",
    "    llm=OpenAI(openai_api_key=\"coloque aqui sua chave api\"),\n",
    "    chain_type=\"stuff\",\n",
    "    retriever=retriever,\n",
    "    return_source_documents=True\n",
    ")"
   ]
  },
  {
   "cell_type": "code",
   "execution_count": 15,
   "id": "f600179f",
   "metadata": {},
   "outputs": [],
   "source": [
    "# Function to make a query\n",
    "def make_query(query):\n",
    "    try:\n",
    "        result = qa_chain({\"query\": query})\n",
    "        print(\"Answer:\", result['result'])\n",
    "        \n",
    "    except Exception as e:\n",
    "        print(f\"Erro durante a execução: {e}\")"
   ]
  },
  {
   "cell_type": "code",
   "execution_count": 16,
   "id": "8399bb9f",
   "metadata": {},
   "outputs": [
    {
     "name": "stderr",
     "output_type": "stream",
     "text": [
      "C:\\Users\\ana.fjanuario\\AppData\\Roaming\\Python\\Python311\\site-packages\\langchain_core\\_api\\deprecation.py:139: LangChainDeprecationWarning: The method `Chain.__call__` was deprecated in langchain 0.1.0 and will be removed in 0.3.0. Use invoke instead.\n",
      "  warn_deprecated(\n"
     ]
    },
    {
     "name": "stdout",
     "output_type": "stream",
     "text": [
      "Answer:  AHP stands for Analytic Hierarchy Process, which is a method for multi-criteria decision-making. It involves breaking down a complex decision into a hierarchy of criteria and alternatives, and then performing pairwise comparisons between them. This allows decision-makers to evaluate the importance of each criteria and the performance of each alternative. The method is based on mathematical principles and aims to reduce subjectivity in decision-making. However, it can be time-consuming and may be susceptible to biases in the weight assignment process.\n"
     ]
    }
   ],
   "source": [
    "make_query(\"Explain LI5 how the methos AHP works?\")"
   ]
  },
  {
   "cell_type": "code",
   "execution_count": 17,
   "id": "65f0187d",
   "metadata": {},
   "outputs": [
    {
     "name": "stdout",
     "output_type": "stream",
     "text": [
      "Answer:  The AHP method is used in conjunction with the TOPSIS method, meaning they are used together in a combined approach. This combination is often used in multi-criteria decision-making problems to produce a full ranking of alternatives. \n"
     ]
    }
   ],
   "source": [
    "make_query(\"when we use the AHP method with TOPSIS method?\")"
   ]
  },
  {
   "cell_type": "code",
   "execution_count": 18,
   "id": "7c285cc7",
   "metadata": {},
   "outputs": [
    {
     "name": "stdout",
     "output_type": "stream",
     "text": [
      "Answer:  Yes, the AHP and TOPSIS methods were used well in the article, as they were applied in a clear and transparent manner and their strengths and limitations were discussed. However, the use of additional tests, such as Kendall's Tau, could have enhanced the validity of the results.\n"
     ]
    }
   ],
   "source": [
    "make_query(\"Considering the application of the method in the article, was it used well?\")"
   ]
  },
  {
   "cell_type": "code",
   "execution_count": 19,
   "id": "97c0ce85",
   "metadata": {},
   "outputs": [
    {
     "name": "stdout",
     "output_type": "stream",
     "text": [
      "Answer:  Yes. The paper under analysis has the format and structure of a scientific article. It includes a summary, keywords, introduction, theoretical background, practical application, discussion, and conclusion sections, as well as references and figures to support the information presented.\n"
     ]
    }
   ],
   "source": [
    "make_query(\"o documento analisado tem formato de artigo cientifico?\") #fazer a pergunta em portugues para avaliar o output"
   ]
  },
  {
   "cell_type": "code",
   "execution_count": 20,
   "id": "9527cbb1",
   "metadata": {},
   "outputs": [
    {
     "name": "stdout",
     "output_type": "stream",
     "text": [
      "Answer: \n",
      "\n",
      "O autor menciona que o MAVT (Multi-Attribute Value Theory) é uma abordagem quantitativa para tomada de decisão que proporciona um quadro para avaliar e classificar alternativas com base no seu desempenho em vários atributos relevantes. Ele destaca que o MAVT incorpora diretamente as preferências e percepções dos tomadores de decisão, promovendo decisões que se alinham com os valores e objetivos organizacionais. No entanto, ele ressalta que o MAVT também possui desvantagens, como a sensibilidade aos pesos atribuídos aos critérios e a influência da escolha de alternativas de referência nos resultados de classificação. \n"
     ]
    }
   ],
   "source": [
    "make_query(\"o que o autor diz sobre o MAVT?\") #agora o LLM respondeu em portugues, mas não gostei da resposta dele"
   ]
  },
  {
   "cell_type": "code",
   "execution_count": 21,
   "id": "02517b86",
   "metadata": {},
   "outputs": [
    {
     "name": "stdout",
     "output_type": "stream",
     "text": [
      "Answer:  Yes, the author explains what a value function is in the text. They define it as a mapping of performance levels to values between 0 and 1 and provide an example of a value function for cost. They also discuss the process of constructing value functions and the importance of understanding attributes and decision-makers' preferences in this process.\n"
     ]
    }
   ],
   "source": [
    "make_query(\"o autor explica o que é uma função de valor no texto?\") #repondeu em ingles, entretanto respondeu bem"
   ]
  },
  {
   "cell_type": "code",
   "execution_count": 22,
   "id": "4399bdad",
   "metadata": {},
   "outputs": [
    {
     "name": "stdout",
     "output_type": "stream",
     "text": [
      "Answer: \n",
      "As the author of this text, I would include a section discussing the potential future applications and advancements of the AHP-TOPSIS methodology in credit scoring for SMEs. This could include discussing the potential for incorporating machine learning and artificial intelligence techniques, as well as the potential for expanding the methodology to other industries or types of decision-making processes. Additionally, I would include a discussion on the limitations and challenges of implementing the AHP-TOPSIS methodology in practice, and potential strategies for overcoming these challenges. Finally, I would include a section on the implications and recommendations for decision-makers and stakeholders, highlighting the key takeaways and actionable insights from the study.\n"
     ]
    }
   ],
   "source": [
    "make_query(\"Suppose you are the author of this text, what would you include in this article to make it more complete?\")"
   ]
  }
 ],
 "metadata": {
  "kernelspec": {
   "display_name": "Python 3 (ipykernel)",
   "language": "python",
   "name": "python3"
  },
  "language_info": {
   "codemirror_mode": {
    "name": "ipython",
    "version": 3
   },
   "file_extension": ".py",
   "mimetype": "text/x-python",
   "name": "python",
   "nbconvert_exporter": "python",
   "pygments_lexer": "ipython3",
   "version": "3.11.5"
  }
 },
 "nbformat": 4,
 "nbformat_minor": 5
}
